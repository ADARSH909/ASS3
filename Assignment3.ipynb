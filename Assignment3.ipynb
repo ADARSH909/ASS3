{
 "cells": [
  {
   "cell_type": "code",
   "execution_count": 9,
   "id": "71b9093f-c0b5-407e-a82c-04a188b90301",
   "metadata": {},
   "outputs": [
    {
     "name": "stdout",
     "output_type": "stream",
     "text": [
      "1 2 3 4 5 6 7 8 9 10 "
     ]
    }
   ],
   "source": [
    "#Explain with an example each when to use a for loop and a while loop\n",
    "\"\"\"Use a for loop to iterate over an array.\n",
    "   Use a for loop when you know the loop should execute n times.\n",
    "   With the while loop we can execute a set of statements as long as a condition is true\n",
    "\"\"\"\n",
    "# Use a for loop to iterate over an array\n",
    "l=[1,2,3,4,5,6,7,8,9,10]\n",
    "for i in l:\n",
    "    print(i,end=\" \")"
   ]
  },
  {
   "cell_type": "code",
   "execution_count": 5,
   "id": "c8eda4ca-18dd-4d78-be71-641e4c860768",
   "metadata": {},
   "outputs": [
    {
     "name": "stdout",
     "output_type": "stream",
     "text": [
      "0 1 2 3 4 5 6 7 8 9 "
     ]
    }
   ],
   "source": [
    "# Use a for loop when you know the loop should execute n times\n",
    "for i in range(0,10):\n",
    "    print(i,end=\" \")"
   ]
  },
  {
   "cell_type": "code",
   "execution_count": 8,
   "id": "e18e0a02-6dc8-4a51-ad8e-e73c303f9b62",
   "metadata": {},
   "outputs": [
    {
     "name": "stdout",
     "output_type": "stream",
     "text": [
      "1 2 3 4 5 6 7 8 9 10 "
     ]
    }
   ],
   "source": [
    "# With the while loop we can execute a set of statements as long as a condition is true\n",
    "count=1\n",
    "while count<=10:\n",
    "    print(count,end=\" \")\n",
    "    count=count+1"
   ]
  },
  {
   "cell_type": "code",
   "execution_count": 10,
   "id": "722e8ccb-f045-4143-9964-21c7e42875d6",
   "metadata": {},
   "outputs": [
    {
     "name": "stdout",
     "output_type": "stream",
     "text": [
      "sum using for loop 55\n",
      "sum using while loop 55\n",
      "product using for loop 3628800\n",
      "product using while loop 3628800\n"
     ]
    }
   ],
   "source": [
    "# Write a python program to print the sum and product of the first 10 natural numbers using for and while loop for loop for Sum\n",
    "sum=0\n",
    "for i in range(0,11):\n",
    "    sum=sum+i\n",
    "print(\"sum using for loop\",sum)\n",
    "# while loop for sum\n",
    "sum_1=0\n",
    "i=1\n",
    "while i<11:\n",
    "    sum_1=sum_1+i\n",
    "    i=i+1\n",
    "print(\"sum using while loop\",sum_1)\n",
    "#product using for loop\n",
    "product=1\n",
    "for i in range(2,11):\n",
    "    product=product*i\n",
    "print(\"product using for loop\",product)\n",
    "#product using while loop\n",
    "product_1=1\n",
    "i=1\n",
    "while i<11:\n",
    "    product_1=product_1*i\n",
    "    i=i+1\n",
    "print(\"product using while loop\",product_1)"
   ]
  },
  {
   "cell_type": "code",
   "execution_count": 1,
   "id": "12a3d1b0-dfb4-4e0b-a681-e4ab423f9ca4",
   "metadata": {},
   "outputs": [
    {
     "name": "stdin",
     "output_type": "stream",
     "text": [
      "Enter the units of electicity consumed: 310\n"
     ]
    },
    {
     "name": "stdout",
     "output_type": "stream",
     "text": [
      "2250.0\n"
     ]
    }
   ],
   "source": [
    "# Create a python program to compute the electricity bill for a household\n",
    "# first 100 units=4.5per unit\n",
    "# next 100 units = 6/unit\n",
    "# next 100 units =10/unit\n",
    "# after 300 units and above=20/unit\n",
    "units=int(input(\"Enter the units of electicity consumed:\"))\n",
    "\n",
    "def calculateBill(units):\n",
    "\n",
    "\tif (units <= 100):\n",
    "\t\n",
    "\t\treturn units * 4.5;\n",
    "\t\n",
    "\telif (units <= 200):\n",
    "\t\n",
    "\t\treturn ((100 * 4.5) +\n",
    "\t\t\t\t(units - 100) * 6);\n",
    "\t\n",
    "\telif (units <= 300):\n",
    "\t\n",
    "\t\treturn ((100 * 4.5) +\n",
    "\t\t\t\t(100 * 6) +\n",
    "\t\t\t\t(units - 200) * 10);\n",
    "\t\n",
    "\telif (units > 300):\n",
    "\t\n",
    "\t\treturn ((100 * 4.5) +\n",
    "\t\t\t\t(100 * 6) +\n",
    "\t\t\t\t(100 * 10) +\n",
    "\t\t\t\t(units - 300) * 20);\n",
    "\t\n",
    "\treturn 0;\n",
    "\n",
    "print(calculateBill(units));\n"
   ]
  },
  {
   "cell_type": "code",
   "execution_count": 14,
   "id": "8aa20f32-f99b-4c21-a4e0-fd62c77d33e0",
   "metadata": {},
   "outputs": [
    {
     "name": "stdout",
     "output_type": "stream",
     "text": [
      "[8, 64, 125, 216, 512, 1000, 1728, 2744, 3375, 4096, 5832, 8000, 10648, 13824, 15625, 17576, 21952, 27000, 32768, 39304, 42875, 46656, 54872, 64000, 74088, 85184, 91125, 97336, 110592, 125000, 140608, 157464, 166375, 175616, 195112, 216000, 238328, 262144, 274625, 287496, 314432, 343000, 373248, 405224, 421875, 438976, 474552, 512000, 551368, 592704, 614125, 636056, 681472, 729000, 778688, 830584, 857375, 884736, 941192, 1000000]\n"
     ]
    }
   ],
   "source": [
    "# Create a list of numbers from 1 to 100. Use for loop and while loop to calculate the cube of each \n",
    "# number and if the cube of that number is divisible by 4 or 5 then append that number in a list and print \n",
    "# that list\n",
    "\n",
    "# using for loop\n",
    "l1=[]\n",
    "for i in range(1,101):\n",
    "    result=i**3\n",
    "    if result%4==0 or result%5==0:\n",
    "        l1.append(result)\n",
    "print(l1)        "
   ]
  },
  {
   "cell_type": "code",
   "execution_count": 21,
   "id": "89ad2f34-8ad1-492e-9cef-672835c95f48",
   "metadata": {},
   "outputs": [
    {
     "data": {
      "text/plain": [
       "11"
      ]
     },
     "execution_count": 21,
     "metadata": {},
     "output_type": "execute_result"
    }
   ],
   "source": [
    "# Write a program to filter count vowels in the below-given string. string = \"I want to become a data scientist\"\n",
    "string = \"I want to become a data scientist\"\n",
    "count=0\n",
    "for i in string:\n",
    "    if i=='a'or i=='e'or i=='i'or i=='o'or i=='u':\n",
    "        count=count+1\n",
    "count      "
   ]
  }
 ],
 "metadata": {
  "kernelspec": {
   "display_name": "Python 3 (ipykernel)",
   "language": "python",
   "name": "python3"
  },
  "language_info": {
   "codemirror_mode": {
    "name": "ipython",
    "version": 3
   },
   "file_extension": ".py",
   "mimetype": "text/x-python",
   "name": "python",
   "nbconvert_exporter": "python",
   "pygments_lexer": "ipython3",
   "version": "3.10.8"
  }
 },
 "nbformat": 4,
 "nbformat_minor": 5
}
